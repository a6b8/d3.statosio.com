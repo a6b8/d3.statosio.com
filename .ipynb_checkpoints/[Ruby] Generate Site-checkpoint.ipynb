{
 "cells": [
  {
   "cell_type": "markdown",
   "metadata": {},
   "source": [
    "# Functions"
   ]
  },
  {
   "cell_type": "markdown",
   "metadata": {},
   "source": [
    "## Require"
   ]
  },
  {
   "cell_type": "code",
   "execution_count": 2,
   "metadata": {
    "ExecuteTime": {
     "end_time": "2020-11-17T21:29:48.002360Z",
     "start_time": "2020-11-17T21:29:47.948Z"
    }
   },
   "outputs": [
    {
     "name": "stdout",
     "output_type": "stream",
     "text": [
      "\n"
     ]
    }
   ],
   "source": [
    "require 'json'\n",
    "require \"active_support/core_ext/hash\"\n",
    "require \"active_support/core_ext/hash/indifferent_access\"\n",
    "require 'rubygems'\n",
    "require 'zip'\n",
    "require 'fileutils'\n",
    "require 'faker'\n",
    "puts"
   ]
  },
  {
   "cell_type": "markdown",
   "metadata": {},
   "source": [
    "## header_create"
   ]
  },
  {
   "cell_type": "code",
   "execution_count": 101,
   "metadata": {
    "ExecuteTime": {
     "end_time": "2020-11-18T06:53:59.424629Z",
     "start_time": "2020-11-18T06:53:59.417Z"
    }
   },
   "outputs": [
    {
     "data": {
      "text/plain": [
       ":header_create"
      ]
     },
     "execution_count": 101,
     "metadata": {},
     "output_type": "execute_result"
    }
   ],
   "source": [
    "def header_create( struct, data )\n",
    "    file = File.read( struct[:path][:header][:from] )\n",
    "    struct[:header][:from][:index] = file.index( struct[:header][:from][:name] )\n",
    "    struct[:header][:from][:index] = struct[:header][:from][:index] + struct[:header][:from][:name].length\n",
    "    tmp = file[ struct[:header][:from][:index], file.length ]\n",
    "    struct[:header][:to][:index] = tmp.index( struct[:header][:to][:name] )\n",
    "    tmp = tmp[ 0, struct[:header][:to][:index] ]\n",
    "    struct[:header][:file][:index] = tmp.index( struct[:header][:file][:name] ) + struct[:header][:file][:name].length\n",
    "\n",
    "    str = ''\n",
    "    str << file[ 0, struct[:header][:from][:index] - struct[:header][:from][:name].length  ]\n",
    "    str << struct[:header][:from][:name]\n",
    "    str << \"\\n\"\n",
    "    str << struct[:header][:file][:name]\n",
    "    str << ''\n",
    "    str << JSON.pretty_generate( data )\n",
    "    str << \"\\n\"\n",
    "    str << '</script>'\n",
    "    \n",
    "  \n",
    "    return str\n",
    "end"
   ]
  },
  {
   "cell_type": "markdown",
   "metadata": {},
   "source": [
    "# Execute"
   ]
  },
  {
   "cell_type": "markdown",
   "metadata": {},
   "source": [
    "## Initialize"
   ]
  },
  {
   "cell_type": "code",
   "execution_count": 2,
   "metadata": {
    "ExecuteTime": {
     "end_time": "2020-11-15T00:00:12.959792Z",
     "start_time": "2020-11-15T00:00:07.571Z"
    }
   },
   "outputs": [
    {
     "name": "stdout",
     "output_type": "stream",
     "text": [
      "\n"
     ]
    }
   ],
   "source": [
    "require './__generate/libs/helper'\n",
    "\n",
    "path = './__generate/struct/hash.json'\n",
    "hash = JSON.parse( File.read( path ) ).with_indifferent_access\n",
    "\n",
    "require './__generate/libs/struct'\n",
    "struct = struct_create( hash )\n",
    "\n",
    "require './__generate/libs/blocks'\n",
    "path = './__generate/struct/blocks.json'\n",
    "blocks = blocks_create( path )\n",
    "\n",
    "puts"
   ]
  },
  {
   "cell_type": "markdown",
   "metadata": {},
   "source": [
    "## Options"
   ]
  },
  {
   "cell_type": "code",
   "execution_count": 203,
   "metadata": {
    "ExecuteTime": {
     "end_time": "2020-11-16T00:31:31.651543Z",
     "start_time": "2020-11-16T00:31:31.491Z"
    }
   },
   "outputs": [
    {
     "name": "stdout",
     "output_type": "stream",
     "text": [
      "\n"
     ]
    }
   ],
   "source": [
    "require './__generate/libs/options'\n",
    "diagrams = options_create( struct, blocks, :live, hash[:path][:root] )\n",
    "puts "
   ]
  },
  {
   "cell_type": "markdown",
   "metadata": {},
   "source": [
    "## Benchmark"
   ]
  },
  {
   "cell_type": "code",
   "execution_count": 205,
   "metadata": {
    "ExecuteTime": {
     "end_time": "2020-11-16T00:31:37.413051Z",
     "start_time": "2020-11-16T00:31:37.317Z"
    }
   },
   "outputs": [
    {
     "data": {
      "text/plain": [
       "true"
      ]
     },
     "execution_count": 205,
     "metadata": {},
     "output_type": "execute_result"
    }
   ],
   "source": [
    "require './__generate/libs/benchmarks'\n",
    "benchmarks_create( diagrams )"
   ]
  },
  {
   "cell_type": "markdown",
   "metadata": {},
   "source": [
    "## Anonymize Example Data"
   ]
  },
  {
   "cell_type": "code",
   "execution_count": 100,
   "metadata": {
    "ExecuteTime": {
     "end_time": "2020-11-18T06:53:20.417482Z",
     "start_time": "2020-11-18T06:53:20.404Z"
    }
   },
   "outputs": [
    {
     "data": {
      "text/plain": [
       "33075"
      ]
     },
     "execution_count": 100,
     "metadata": {},
     "output_type": "execute_result"
    }
   ],
   "source": [
    "struct = {\n",
    "    path: {\n",
    "        performance: {\n",
    "            from: nil,\n",
    "            to: nil\n",
    "        },\n",
    "        header: {\n",
    "            from: nil,\n",
    "            to: nil\n",
    "        }\n",
    "    },\n",
    "    header: {\n",
    "        from: {\n",
    "            name: \"<script id='statosio_file'>\",\n",
    "            index: nil\n",
    "        },\n",
    "        to: {\n",
    "            name: \"</script>\",\n",
    "            index: nil\n",
    "        },\n",
    "        file: {\n",
    "            name: \"var file = \"\n",
    "        }\n",
    "    }\n",
    "}\n",
    "\n",
    "struct[:path][:performance][:from] = './__original/performance.json'\n",
    "struct[:path][:performance][:to] = './data/performance.json'  \n",
    "\n",
    "struct[:path][:header][:from] = './_includes/extra/head.html'\n",
    "struct[:path][:header][:to] = './_includes/extra/head_test.html'\n",
    "\n",
    "file = File.read( struct[:path][:performance][:from] )\n",
    "data = JSON.parse( file )\n",
    "\n",
    "names = 100.times.map { | d | Faker::TvShows::StarTrek.character }.to_set.to_a\n",
    "data = data.each.with_index do | d, i | \n",
    "    d[\"domain\"] = names[ i ]  \n",
    "    d[\"name\"] = d.delete \"domain\"\n",
    "end\n",
    "\n",
    "File.open( struct[:path][:header][:to] , \"w\" ) { | f | f.write( JSON.pretty_generate( data ) ) }"
   ]
  },
  {
   "cell_type": "code",
   "execution_count": 111,
   "metadata": {
    "ExecuteTime": {
     "end_time": "2020-11-18T06:59:30.007748Z",
     "start_time": "2020-11-18T06:59:29.986Z"
    }
   },
   "outputs": [
    {
     "data": {
      "text/plain": [
       "34152"
      ]
     },
     "execution_count": 111,
     "metadata": {},
     "output_type": "execute_result"
    }
   ],
   "source": [
    "html = header_create( struct, data )\n",
    "#File.open( struct[:path][:performance][:to], \"w\" ) { | f | f.write( html ) }\n",
    "\n",
    "File.open( struct[:path][:header][:to], \"w\" ) do | f |\n",
    "  f.write( html )\n",
    "end"
   ]
  },
  {
   "cell_type": "code",
   "execution_count": null,
   "metadata": {},
   "outputs": [],
   "source": []
  }
 ],
 "metadata": {
  "kernelspec": {
   "display_name": "Ruby 2.7.1",
   "language": "ruby",
   "name": "ruby"
  },
  "language_info": {
   "file_extension": ".rb",
   "mimetype": "application/x-ruby",
   "name": "ruby",
   "version": "2.7.1"
  },
  "toc": {
   "base_numbering": 1,
   "nav_menu": {},
   "number_sections": true,
   "sideBar": true,
   "skip_h1_title": false,
   "title_cell": "Table of Contents",
   "title_sidebar": "Contents",
   "toc_cell": false,
   "toc_position": {},
   "toc_section_display": true,
   "toc_window_display": false
  }
 },
 "nbformat": 4,
 "nbformat_minor": 4
}
