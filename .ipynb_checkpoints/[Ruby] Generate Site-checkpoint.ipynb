{
 "cells": [
  {
   "cell_type": "markdown",
   "metadata": {},
   "source": [
    "# Functions"
   ]
  },
  {
   "cell_type": "markdown",
   "metadata": {},
   "source": [
    "## Require"
   ]
  },
  {
   "cell_type": "code",
   "execution_count": 2,
   "metadata": {
    "ExecuteTime": {
     "end_time": "2020-11-17T21:29:48.002360Z",
     "start_time": "2020-11-17T21:29:47.948Z"
    }
   },
   "outputs": [
    {
     "name": "stdout",
     "output_type": "stream",
     "text": [
      "\n"
     ]
    }
   ],
   "source": [
    "require 'json'\n",
    "require \"active_support/core_ext/hash\"\n",
    "require \"active_support/core_ext/hash/indifferent_access\"\n",
    "require 'rubygems'\n",
    "require 'zip'\n",
    "require 'fileutils'\n",
    "require 'faker'\n",
    "puts"
   ]
  },
  {
   "cell_type": "markdown",
   "metadata": {},
   "source": [
    "# Execute"
   ]
  },
  {
   "cell_type": "markdown",
   "metadata": {},
   "source": [
    "## Initialize"
   ]
  },
  {
   "cell_type": "code",
   "execution_count": 2,
   "metadata": {
    "ExecuteTime": {
     "end_time": "2020-11-15T00:00:12.959792Z",
     "start_time": "2020-11-15T00:00:07.571Z"
    }
   },
   "outputs": [
    {
     "name": "stdout",
     "output_type": "stream",
     "text": [
      "\n"
     ]
    }
   ],
   "source": [
    "require './__generate/libs/helper'\n",
    "\n",
    "path = './__generate/struct/hash.json'\n",
    "hash = JSON.parse( File.read( path ) ).with_indifferent_access\n",
    "\n",
    "require './__generate/libs/struct'\n",
    "struct = struct_create( hash )\n",
    "\n",
    "require './__generate/libs/blocks'\n",
    "path = './__generate/struct/blocks.json'\n",
    "blocks = blocks_create( path )\n",
    "\n",
    "puts"
   ]
  },
  {
   "cell_type": "markdown",
   "metadata": {},
   "source": [
    "## Options"
   ]
  },
  {
   "cell_type": "code",
   "execution_count": 203,
   "metadata": {
    "ExecuteTime": {
     "end_time": "2020-11-16T00:31:31.651543Z",
     "start_time": "2020-11-16T00:31:31.491Z"
    }
   },
   "outputs": [
    {
     "name": "stdout",
     "output_type": "stream",
     "text": [
      "\n"
     ]
    }
   ],
   "source": [
    "require './__generate/libs/options'\n",
    "diagrams = options_create( struct, blocks, :live, hash[:path][:root] )\n",
    "puts "
   ]
  },
  {
   "cell_type": "markdown",
   "metadata": {},
   "source": [
    "## Benchmark"
   ]
  },
  {
   "cell_type": "code",
   "execution_count": 205,
   "metadata": {
    "ExecuteTime": {
     "end_time": "2020-11-16T00:31:37.413051Z",
     "start_time": "2020-11-16T00:31:37.317Z"
    }
   },
   "outputs": [
    {
     "data": {
      "text/plain": [
       "true"
      ]
     },
     "execution_count": 205,
     "metadata": {},
     "output_type": "execute_result"
    }
   ],
   "source": [
    "require './__generate/libs/benchmarks'\n",
    "benchmarks_create( diagrams )"
   ]
  },
  {
   "cell_type": "markdown",
   "metadata": {},
   "source": [
    "## Anonymize Example Data"
   ]
  },
  {
   "cell_type": "code",
   "execution_count": 3,
   "metadata": {
    "ExecuteTime": {
     "end_time": "2020-11-17T21:31:19.780818Z",
     "start_time": "2020-11-17T21:31:19.771Z"
    }
   },
   "outputs": [
    {
     "data": {
      "text/plain": [
       "\"./__original/performance.json\""
      ]
     },
     "execution_count": 3,
     "metadata": {},
     "output_type": "execute_result"
    }
   ],
   "source": [
    "path = './__original/performance.json'\n",
    "\n",
    "file = File.read( hash[:path][:json][:full] )\n",
    "data = JSON.parse( file ).with_indifferent_access\n"
   ]
  },
  {
   "cell_type": "code",
   "execution_count": null,
   "metadata": {},
   "outputs": [],
   "source": []
  }
 ],
 "metadata": {
  "kernelspec": {
   "display_name": "Ruby 2.7.1",
   "language": "ruby",
   "name": "ruby"
  },
  "language_info": {
   "file_extension": ".rb",
   "mimetype": "application/x-ruby",
   "name": "ruby",
   "version": "2.7.1"
  },
  "toc": {
   "base_numbering": 1,
   "nav_menu": {},
   "number_sections": true,
   "sideBar": true,
   "skip_h1_title": false,
   "title_cell": "Table of Contents",
   "title_sidebar": "Contents",
   "toc_cell": false,
   "toc_position": {},
   "toc_section_display": true,
   "toc_window_display": false
  }
 },
 "nbformat": 4,
 "nbformat_minor": 4
}
