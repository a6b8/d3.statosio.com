{
 "cells": [
  {
   "cell_type": "markdown",
   "metadata": {},
   "source": [
    "# Functions"
   ]
  },
  {
   "cell_type": "markdown",
   "metadata": {},
   "source": [
    "## Require"
   ]
  },
  {
   "cell_type": "code",
   "execution_count": 2,
   "metadata": {
    "ExecuteTime": {
     "end_time": "2020-11-17T21:29:48.002360Z",
     "start_time": "2020-11-17T21:29:47.948Z"
    }
   },
   "outputs": [
    {
     "name": "stdout",
     "output_type": "stream",
     "text": [
      "\n"
     ]
    }
   ],
   "source": [
    "require 'json'\n",
    "require \"active_support/core_ext/hash\"\n",
    "require \"active_support/core_ext/hash/indifferent_access\"\n",
    "require 'rubygems'\n",
    "require 'zip'\n",
    "require 'fileutils'\n",
    "require 'faker'\n",
    "puts"
   ]
  },
  {
   "cell_type": "markdown",
   "metadata": {},
   "source": [
    "## header_create"
   ]
  },
  {
   "cell_type": "code",
   "execution_count": 143,
   "metadata": {
    "ExecuteTime": {
     "end_time": "2020-11-18T07:17:00.143512Z",
     "start_time": "2020-11-18T07:17:00.135Z"
    }
   },
   "outputs": [
    {
     "data": {
      "text/plain": [
       ":header_create"
      ]
     },
     "execution_count": 143,
     "metadata": {},
     "output_type": "execute_result"
    }
   ],
   "source": [
    "def header_create( path, data )\n",
    "    struct ={\n",
    "        from: {\n",
    "            name: '<script id=\"statosio_file\">',\n",
    "            index: nil\n",
    "        },\n",
    "        to: {\n",
    "            name: \"</script>\",\n",
    "            index: nil\n",
    "        },\n",
    "        file: {\n",
    "            name: \"var file = \"\n",
    "        }\n",
    "    }\n",
    "  \n",
    "    file = File.read( path )\n",
    "    puts struct[:from][:index] = file.index( struct[:from][:name] )\n",
    "    struct[:from][:index] = struct[:from][:index] + struct[:from][:name].length\n",
    "    tmp = file[ struct[:from][:index], file.length ]\n",
    "    struct[:to][:index] = tmp.index( struct[:to][:name] )\n",
    "    tmp = tmp[ 0, struct[:to][:index] ]\n",
    "    struct[:file][:index] = tmp.index( struct[:file][:name] ) + struct[:file][:name].length\n",
    "    str = ''\n",
    "    str << file[ 0, struct[:from][:index] - struct[:from][:name].length  ]\n",
    "    str << struct[:from][:name]\n",
    "    str << \"\\n\"\n",
    "    str << struct[:file][:name]\n",
    "    str << ''\n",
    "    str << JSON.pretty_generate( data )\n",
    "    str << \";\\n\"\n",
    "    str << '</script>'\n",
    "    \n",
    "    return str\n",
    "end"
   ]
  },
  {
   "cell_type": "markdown",
   "metadata": {},
   "source": [
    "# Execute"
   ]
  },
  {
   "cell_type": "markdown",
   "metadata": {},
   "source": [
    "## Initialize"
   ]
  },
  {
   "cell_type": "code",
   "execution_count": 118,
   "metadata": {
    "ExecuteTime": {
     "end_time": "2020-11-18T07:03:16.139905Z",
     "start_time": "2020-11-18T07:03:16.038Z"
    }
   },
   "outputs": [
    {
     "name": "stdout",
     "output_type": "stream",
     "text": [
      "\n"
     ]
    }
   ],
   "source": [
    "require './__generate/libs/helper'\n",
    "\n",
    "path = './__generate/struct/hash.json'\n",
    "hash = JSON.parse( File.read( path ) ).with_indifferent_access\n",
    "\n",
    "require './__generate/libs/struct'\n",
    "struct = struct_create( hash )\n",
    "\n",
    "require './__generate/libs/blocks'\n",
    "path = './__generate/struct/blocks.json'\n",
    "blocks = blocks_create( path )\n",
    "\n",
    "puts"
   ]
  },
  {
   "cell_type": "markdown",
   "metadata": {},
   "source": [
    "## Options"
   ]
  },
  {
   "cell_type": "code",
   "execution_count": 119,
   "metadata": {
    "ExecuteTime": {
     "end_time": "2020-11-18T07:03:17.444707Z",
     "start_time": "2020-11-18T07:03:17.301Z"
    }
   },
   "outputs": [
    {
     "name": "stdout",
     "output_type": "stream",
     "text": [
      "\n"
     ]
    }
   ],
   "source": [
    "require './__generate/libs/options'\n",
    "diagrams = options_create( struct, blocks, :live, hash[:path][:root] )\n",
    "puts "
   ]
  },
  {
   "cell_type": "markdown",
   "metadata": {},
   "source": [
    "## Benchmark"
   ]
  },
  {
   "cell_type": "code",
   "execution_count": 205,
   "metadata": {
    "ExecuteTime": {
     "end_time": "2020-11-16T00:31:37.413051Z",
     "start_time": "2020-11-16T00:31:37.317Z"
    }
   },
   "outputs": [
    {
     "data": {
      "text/plain": [
       "true"
      ]
     },
     "execution_count": 205,
     "metadata": {},
     "output_type": "execute_result"
    }
   ],
   "source": [
    "require './__generate/libs/benchmarks'\n",
    "benchmarks_create( diagrams )"
   ]
  },
  {
   "cell_type": "markdown",
   "metadata": {},
   "source": [
    "## Anonymize Example Data"
   ]
  },
  {
   "cell_type": "code",
   "execution_count": 150,
   "metadata": {
    "ExecuteTime": {
     "end_time": "2020-11-18T07:19:56.007326Z",
     "start_time": "2020-11-18T07:19:55.968Z"
    }
   },
   "outputs": [
    {
     "name": "stdout",
     "output_type": "stream",
     "text": [
      "1032\n",
      "\n"
     ]
    }
   ],
   "source": [
    "struct = {\n",
    "    path: {\n",
    "        performance: {\n",
    "            from: nil,\n",
    "            to: nil\n",
    "        },\n",
    "        header: {\n",
    "            from: nil,\n",
    "            to: nil\n",
    "        }\n",
    "    }\n",
    "}\n",
    "\n",
    "struct[:path][:performance][:from] = './__original/performance.json'\n",
    "struct[:path][:performance][:to] = './data/performance.json'  \n",
    "\n",
    "struct[:path][:header][:from] = './_includes/extra/head.html'\n",
    "struct[:path][:header][:to] = './_includes/extra/head.html'\n",
    "\n",
    "file = File.read( struct[:path][:performance][:from] )\n",
    "data = JSON.parse( file )\n",
    "\n",
    "names = 100.times.map { | d | Faker::TvShows::StarTrek.character }\n",
    "names = names.insert( 5, 'Spock' ).to_set.to_a\n",
    "\n",
    "data = data.each.with_index do | d, i | \n",
    "    d[\"domain\"] = names[ i ]  \n",
    "    d[\"name\"] = d.delete \"domain\"\n",
    "end\n",
    "\n",
    "File.open( struct[:path][:performance][:to] , \"w\" ) { | f | f.write( JSON.pretty_generate( data ) ) }\n",
    "\n",
    "html = header_create( struct[:path][:header][:to], data )\n",
    "File.open( struct[:path][:header][:to], \"w\" ) { | f | f.write( html ) }\n",
    "puts"
   ]
  },
  {
   "cell_type": "code",
   "execution_count": null,
   "metadata": {},
   "outputs": [],
   "source": []
  }
 ],
 "metadata": {
  "kernelspec": {
   "display_name": "Ruby 2.7.1",
   "language": "ruby",
   "name": "ruby"
  },
  "language_info": {
   "file_extension": ".rb",
   "mimetype": "application/x-ruby",
   "name": "ruby",
   "version": "2.7.1"
  },
  "toc": {
   "base_numbering": 1,
   "nav_menu": {},
   "number_sections": true,
   "sideBar": true,
   "skip_h1_title": false,
   "title_cell": "Table of Contents",
   "title_sidebar": "Contents",
   "toc_cell": false,
   "toc_position": {},
   "toc_section_display": true,
   "toc_window_display": false
  }
 },
 "nbformat": 4,
 "nbformat_minor": 4
}
